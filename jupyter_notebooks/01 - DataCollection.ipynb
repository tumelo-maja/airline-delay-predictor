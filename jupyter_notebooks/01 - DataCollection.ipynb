{
  "cells": [
    {
      "cell_type": "markdown",
      "metadata": {
        "id": "0aStgWSO0E0E"
      },
      "source": [
        "# **Data Collection Notebook**"
      ]
    },
    {
      "cell_type": "markdown",
      "metadata": {
        "id": "1eLEkw5O0ECa"
      },
      "source": [
        "## Objectives\n",
        "\n",
        "* Fetch monthly data for airport departures and arrivals \"Airline On-Time Statistics and Delay Causes\" from the United States Department of Transportation (https://www.transtats.bts.gov/)\n",
        "* Concatenate monthly .csv files into one file\n",
        "* Preliminary data exploration \n",
        "\n",
        "## Inputs\n",
        "\n",
        "* Monthly csv files for \"Airline On-Time Statistics and Delay Causes\" - public data\n",
        "\n",
        "## Outputs\n",
        "\n",
        "* Generate Dataset: outputs/datasets/collection/airlineDelayPredictor.csv\n"
      ]
    },
    {
      "cell_type": "markdown",
      "metadata": {
        "id": "9uWZXH9LwoQg"
      },
      "source": [
        "---"
      ]
    },
    {
      "cell_type": "markdown",
      "metadata": {
        "id": "cqP-UeN-z3i2"
      },
      "source": [
        "# Change working directory"
      ]
    },
    {
      "cell_type": "markdown",
      "metadata": {
        "id": "aOGIGS-uz3i2"
      },
      "source": [
        "* Check the current directory with os.getcwd()"
      ]
    },
    {
      "cell_type": "code",
      "execution_count": 2,
      "metadata": {
        "id": "wZfF_j-Bz3i4",
        "outputId": "66943449-1436-4c3d-85c7-b85f9f78349b"
      },
      "outputs": [
        {
          "data": {
            "text/plain": [
              "'/workspaces/airline-delay-predictor/jupyter_notebooks'"
            ]
          },
          "execution_count": 2,
          "metadata": {},
          "output_type": "execute_result"
        }
      ],
      "source": [
        "import os\n",
        "current_dir = os.getcwd()\n",
        "current_dir"
      ]
    },
    {
      "cell_type": "markdown",
      "metadata": {
        "id": "9MWW8E7lz3i7"
      },
      "source": [
        "Set the root directory as the current directory"
      ]
    },
    {
      "cell_type": "code",
      "execution_count": 3,
      "metadata": {
        "id": "TwHsQRWjz3i9",
        "outputId": "86849db3-cd2f-4cc5-ebb8-2d0caafa1a2c"
      },
      "outputs": [
        {
          "name": "stdout",
          "output_type": "stream",
          "text": [
            "You set a new current directory\n"
          ]
        }
      ],
      "source": [
        "os.chdir(os.path.dirname(current_dir))\n",
        "print(\"You set a new current directory\")"
      ]
    },
    {
      "cell_type": "markdown",
      "metadata": {
        "id": "M_xPk_Ijz3i-"
      },
      "source": [
        "Confirm the new current directory"
      ]
    },
    {
      "cell_type": "code",
      "execution_count": 4,
      "metadata": {
        "id": "vz3S-_kjz3jA",
        "outputId": "00b79ae4-75d0-4a96-d193-ac9ef9847ea2"
      },
      "outputs": [
        {
          "data": {
            "text/plain": [
              "'/workspaces/airline-delay-predictor'"
            ]
          },
          "execution_count": 4,
          "metadata": {},
          "output_type": "execute_result"
        }
      ],
      "source": [
        "current_dir = os.getcwd()\n",
        "current_dir"
      ]
    },
    {
      "cell_type": "markdown",
      "metadata": {
        "id": "-mavJ8DibrcQ"
      },
      "source": [
        "# Fetch data from Transtats (USA)"
      ]
    },
    {
      "cell_type": "markdown",
      "metadata": {},
      "source": [
        "All necessary packages for fetching data have already been install using the requirements.txt file"
      ]
    },
    {
      "cell_type": "code",
      "execution_count": 4,
      "metadata": {},
      "outputs": [
        {
          "name": "stdout",
          "output_type": "stream",
          "text": [
            "Requirement already satisfied: numpy==1.26.1 in /home/cistudent/.local/lib/python3.12/site-packages (from -r requirements.txt (line 1)) (1.26.1)\n",
            "Requirement already satisfied: pandas==2.1.1 in /home/cistudent/.local/lib/python3.12/site-packages (from -r requirements.txt (line 2)) (2.1.1)\n",
            "Requirement already satisfied: matplotlib==3.8.0 in /home/cistudent/.local/lib/python3.12/site-packages (from -r requirements.txt (line 3)) (3.8.0)\n",
            "Requirement already satisfied: seaborn==0.13.2 in /home/cistudent/.local/lib/python3.12/site-packages (from -r requirements.txt (line 4)) (0.13.2)\n",
            "Requirement already satisfied: ydata-profiling==4.12.0 in /home/cistudent/.local/lib/python3.12/site-packages (from -r requirements.txt (line 5)) (4.12.0)\n",
            "Requirement already satisfied: plotly==5.17.0 in /home/cistudent/.local/lib/python3.12/site-packages (from -r requirements.txt (line 6)) (5.17.0)\n",
            "Requirement already satisfied: ppscore==1.1.0 in /home/cistudent/.local/lib/python3.12/site-packages (from -r requirements.txt (line 7)) (1.1.0)\n",
            "Requirement already satisfied: streamlit==1.40.2 in /home/cistudent/.local/lib/python3.12/site-packages (from -r requirements.txt (line 8)) (1.40.2)\n",
            "Requirement already satisfied: feature-engine==1.6.1 in /home/cistudent/.local/lib/python3.12/site-packages (from -r requirements.txt (line 9)) (1.6.1)\n",
            "Requirement already satisfied: imbalanced-learn==0.11.0 in /home/cistudent/.local/lib/python3.12/site-packages (from -r requirements.txt (line 10)) (0.11.0)\n",
            "Requirement already satisfied: scikit-learn==1.3.1 in /home/cistudent/.local/lib/python3.12/site-packages (from -r requirements.txt (line 11)) (1.3.1)\n",
            "Requirement already satisfied: xgboost==1.7.6 in /home/cistudent/.local/lib/python3.12/site-packages (from -r requirements.txt (line 12)) (1.7.6)\n",
            "Requirement already satisfied: yellowbrick==1.5 in /home/cistudent/.local/lib/python3.12/site-packages (from -r requirements.txt (line 13)) (1.5)\n",
            "Requirement already satisfied: Pillow==10.0.1 in /home/cistudent/.local/lib/python3.12/site-packages (from -r requirements.txt (line 14)) (10.0.1)\n",
            "Requirement already satisfied: python-dateutil>=2.8.2 in /home/cistudent/.pyenv/versions/3.12.1/lib/python3.12/site-packages (from pandas==2.1.1->-r requirements.txt (line 2)) (2.9.0.post0)\n",
            "Requirement already satisfied: pytz>=2020.1 in /home/cistudent/.local/lib/python3.12/site-packages (from pandas==2.1.1->-r requirements.txt (line 2)) (2025.2)\n",
            "Requirement already satisfied: tzdata>=2022.1 in /home/cistudent/.local/lib/python3.12/site-packages (from pandas==2.1.1->-r requirements.txt (line 2)) (2025.2)\n",
            "Requirement already satisfied: contourpy>=1.0.1 in /home/cistudent/.local/lib/python3.12/site-packages (from matplotlib==3.8.0->-r requirements.txt (line 3)) (1.3.3)\n",
            "Requirement already satisfied: cycler>=0.10 in /home/cistudent/.local/lib/python3.12/site-packages (from matplotlib==3.8.0->-r requirements.txt (line 3)) (0.12.1)\n",
            "Requirement already satisfied: fonttools>=4.22.0 in /home/cistudent/.local/lib/python3.12/site-packages (from matplotlib==3.8.0->-r requirements.txt (line 3)) (4.60.1)\n",
            "Requirement already satisfied: kiwisolver>=1.0.1 in /home/cistudent/.local/lib/python3.12/site-packages (from matplotlib==3.8.0->-r requirements.txt (line 3)) (1.4.9)\n",
            "Requirement already satisfied: packaging>=20.0 in /home/cistudent/.pyenv/versions/3.12.1/lib/python3.12/site-packages (from matplotlib==3.8.0->-r requirements.txt (line 3)) (24.2)\n",
            "Requirement already satisfied: pyparsing>=2.3.1 in /home/cistudent/.local/lib/python3.12/site-packages (from matplotlib==3.8.0->-r requirements.txt (line 3)) (3.2.5)\n",
            "Requirement already satisfied: scipy<1.14,>=1.4.1 in /home/cistudent/.local/lib/python3.12/site-packages (from ydata-profiling==4.12.0->-r requirements.txt (line 5)) (1.13.1)\n",
            "Requirement already satisfied: pydantic>=2 in /home/cistudent/.local/lib/python3.12/site-packages (from ydata-profiling==4.12.0->-r requirements.txt (line 5)) (2.12.0)\n",
            "Requirement already satisfied: PyYAML<6.1,>=5.0.0 in /home/cistudent/.pyenv/versions/3.12.1/lib/python3.12/site-packages (from ydata-profiling==4.12.0->-r requirements.txt (line 5)) (6.0.2)\n",
            "Requirement already satisfied: jinja2<3.2,>=2.11.1 in /home/cistudent/.pyenv/versions/3.12.1/lib/python3.12/site-packages (from ydata-profiling==4.12.0->-r requirements.txt (line 5)) (3.1.4)\n",
            "Requirement already satisfied: visions<0.7.7,>=0.7.5 in /home/cistudent/.local/lib/python3.12/site-packages (from visions[type_image_path]<0.7.7,>=0.7.5->ydata-profiling==4.12.0->-r requirements.txt (line 5)) (0.7.6)\n",
            "Requirement already satisfied: htmlmin==0.1.12 in /home/cistudent/.local/lib/python3.12/site-packages (from ydata-profiling==4.12.0->-r requirements.txt (line 5)) (0.1.12)\n",
            "Requirement already satisfied: phik<0.13,>=0.11.1 in /home/cistudent/.local/lib/python3.12/site-packages (from ydata-profiling==4.12.0->-r requirements.txt (line 5)) (0.12.5)\n",
            "Requirement already satisfied: requests<3,>=2.24.0 in /home/cistudent/.pyenv/versions/3.12.1/lib/python3.12/site-packages (from ydata-profiling==4.12.0->-r requirements.txt (line 5)) (2.32.3)\n",
            "Requirement already satisfied: tqdm<5,>=4.48.2 in /home/cistudent/.local/lib/python3.12/site-packages (from ydata-profiling==4.12.0->-r requirements.txt (line 5)) (4.67.1)\n",
            "Requirement already satisfied: multimethod<2,>=1.4 in /home/cistudent/.local/lib/python3.12/site-packages (from ydata-profiling==4.12.0->-r requirements.txt (line 5)) (1.12)\n",
            "Requirement already satisfied: statsmodels<1,>=0.13.2 in /home/cistudent/.local/lib/python3.12/site-packages (from ydata-profiling==4.12.0->-r requirements.txt (line 5)) (0.14.5)\n",
            "Requirement already satisfied: typeguard<5,>=3 in /home/cistudent/.local/lib/python3.12/site-packages (from ydata-profiling==4.12.0->-r requirements.txt (line 5)) (4.4.4)\n",
            "Requirement already satisfied: imagehash==4.3.1 in /home/cistudent/.local/lib/python3.12/site-packages (from ydata-profiling==4.12.0->-r requirements.txt (line 5)) (4.3.1)\n",
            "Requirement already satisfied: wordcloud>=1.9.3 in /home/cistudent/.local/lib/python3.12/site-packages (from ydata-profiling==4.12.0->-r requirements.txt (line 5)) (1.9.4)\n",
            "Requirement already satisfied: dacite>=1.8 in /home/cistudent/.local/lib/python3.12/site-packages (from ydata-profiling==4.12.0->-r requirements.txt (line 5)) (1.9.2)\n",
            "Requirement already satisfied: numba<1,>=0.56.0 in /home/cistudent/.local/lib/python3.12/site-packages (from ydata-profiling==4.12.0->-r requirements.txt (line 5)) (0.62.1)\n",
            "Requirement already satisfied: tenacity>=6.2.0 in /home/cistudent/.local/lib/python3.12/site-packages (from plotly==5.17.0->-r requirements.txt (line 6)) (9.1.2)\n",
            "Requirement already satisfied: altair<6,>=4.0 in /home/cistudent/.local/lib/python3.12/site-packages (from streamlit==1.40.2->-r requirements.txt (line 8)) (5.5.0)\n",
            "Requirement already satisfied: blinker<2,>=1.0.0 in /home/cistudent/.local/lib/python3.12/site-packages (from streamlit==1.40.2->-r requirements.txt (line 8)) (1.9.0)\n",
            "Requirement already satisfied: cachetools<6,>=4.0 in /home/cistudent/.local/lib/python3.12/site-packages (from streamlit==1.40.2->-r requirements.txt (line 8)) (5.5.2)\n",
            "Requirement already satisfied: click<9,>=7.0 in /home/cistudent/.local/lib/python3.12/site-packages (from streamlit==1.40.2->-r requirements.txt (line 8)) (8.3.0)\n",
            "Requirement already satisfied: protobuf<6,>=3.20 in /home/cistudent/.local/lib/python3.12/site-packages (from streamlit==1.40.2->-r requirements.txt (line 8)) (5.29.5)\n",
            "Requirement already satisfied: pyarrow>=7.0 in /home/cistudent/.local/lib/python3.12/site-packages (from streamlit==1.40.2->-r requirements.txt (line 8)) (21.0.0)\n",
            "Requirement already satisfied: rich<14,>=10.14.0 in /home/cistudent/.pyenv/versions/3.12.1/lib/python3.12/site-packages (from streamlit==1.40.2->-r requirements.txt (line 8)) (13.9.4)\n",
            "Requirement already satisfied: toml<2,>=0.10.1 in /home/cistudent/.local/lib/python3.12/site-packages (from streamlit==1.40.2->-r requirements.txt (line 8)) (0.10.2)\n",
            "Requirement already satisfied: typing-extensions<5,>=4.3.0 in /home/cistudent/.local/lib/python3.12/site-packages (from streamlit==1.40.2->-r requirements.txt (line 8)) (4.15.0)\n",
            "Requirement already satisfied: watchdog<7,>=2.1.5 in /home/cistudent/.local/lib/python3.12/site-packages (from streamlit==1.40.2->-r requirements.txt (line 8)) (6.0.0)\n",
            "Requirement already satisfied: gitpython!=3.1.19,<4,>=3.0.7 in /home/cistudent/.local/lib/python3.12/site-packages (from streamlit==1.40.2->-r requirements.txt (line 8)) (3.1.45)\n",
            "Requirement already satisfied: pydeck<1,>=0.8.0b4 in /home/cistudent/.local/lib/python3.12/site-packages (from streamlit==1.40.2->-r requirements.txt (line 8)) (0.9.1)\n",
            "Requirement already satisfied: tornado<7,>=6.0.3 in /home/cistudent/.pyenv/versions/3.12.1/lib/python3.12/site-packages (from streamlit==1.40.2->-r requirements.txt (line 8)) (6.4.2)\n",
            "Requirement already satisfied: joblib>=1.1.1 in /home/cistudent/.local/lib/python3.12/site-packages (from imbalanced-learn==0.11.0->-r requirements.txt (line 10)) (1.5.2)\n",
            "Requirement already satisfied: threadpoolctl>=2.0.0 in /home/cistudent/.local/lib/python3.12/site-packages (from imbalanced-learn==0.11.0->-r requirements.txt (line 10)) (3.6.0)\n",
            "Requirement already satisfied: PyWavelets in /home/cistudent/.local/lib/python3.12/site-packages (from imagehash==4.3.1->ydata-profiling==4.12.0->-r requirements.txt (line 5)) (1.9.0)\n",
            "Requirement already satisfied: jsonschema>=3.0 in /home/cistudent/.pyenv/versions/3.12.1/lib/python3.12/site-packages (from altair<6,>=4.0->streamlit==1.40.2->-r requirements.txt (line 8)) (4.23.0)\n",
            "Requirement already satisfied: narwhals>=1.14.2 in /home/cistudent/.local/lib/python3.12/site-packages (from altair<6,>=4.0->streamlit==1.40.2->-r requirements.txt (line 8)) (2.7.0)\n",
            "Requirement already satisfied: gitdb<5,>=4.0.1 in /home/cistudent/.local/lib/python3.12/site-packages (from gitpython!=3.1.19,<4,>=3.0.7->streamlit==1.40.2->-r requirements.txt (line 8)) (4.0.12)\n",
            "Requirement already satisfied: smmap<6,>=3.0.1 in /home/cistudent/.local/lib/python3.12/site-packages (from gitdb<5,>=4.0.1->gitpython!=3.1.19,<4,>=3.0.7->streamlit==1.40.2->-r requirements.txt (line 8)) (5.0.2)\n",
            "Requirement already satisfied: MarkupSafe>=2.0 in /home/cistudent/.pyenv/versions/3.12.1/lib/python3.12/site-packages (from jinja2<3.2,>=2.11.1->ydata-profiling==4.12.0->-r requirements.txt (line 5)) (3.0.2)\n",
            "Requirement already satisfied: llvmlite<0.46,>=0.45.0dev0 in /home/cistudent/.local/lib/python3.12/site-packages (from numba<1,>=0.56.0->ydata-profiling==4.12.0->-r requirements.txt (line 5)) (0.45.1)\n",
            "Requirement already satisfied: charset-normalizer<4,>=2 in /home/cistudent/.pyenv/versions/3.12.1/lib/python3.12/site-packages (from requests<3,>=2.24.0->ydata-profiling==4.12.0->-r requirements.txt (line 5)) (3.4.0)\n",
            "Requirement already satisfied: idna<4,>=2.5 in /home/cistudent/.pyenv/versions/3.12.1/lib/python3.12/site-packages (from requests<3,>=2.24.0->ydata-profiling==4.12.0->-r requirements.txt (line 5)) (3.10)\n",
            "Requirement already satisfied: urllib3<3,>=1.21.1 in /home/cistudent/.pyenv/versions/3.12.1/lib/python3.12/site-packages (from requests<3,>=2.24.0->ydata-profiling==4.12.0->-r requirements.txt (line 5)) (2.2.3)\n",
            "Requirement already satisfied: certifi>=2017.4.17 in /home/cistudent/.pyenv/versions/3.12.1/lib/python3.12/site-packages (from requests<3,>=2.24.0->ydata-profiling==4.12.0->-r requirements.txt (line 5)) (2024.12.14)\n",
            "Requirement already satisfied: markdown-it-py>=2.2.0 in /home/cistudent/.pyenv/versions/3.12.1/lib/python3.12/site-packages (from rich<14,>=10.14.0->streamlit==1.40.2->-r requirements.txt (line 8)) (3.0.0)\n",
            "Requirement already satisfied: pygments<3.0.0,>=2.13.0 in /home/cistudent/.pyenv/versions/3.12.1/lib/python3.12/site-packages (from rich<14,>=10.14.0->streamlit==1.40.2->-r requirements.txt (line 8)) (2.18.0)\n",
            "Requirement already satisfied: patsy>=0.5.6 in /home/cistudent/.local/lib/python3.12/site-packages (from statsmodels<1,>=0.13.2->ydata-profiling==4.12.0->-r requirements.txt (line 5)) (1.0.1)\n",
            "Requirement already satisfied: attrs>=19.3.0 in /home/cistudent/.pyenv/versions/3.12.1/lib/python3.12/site-packages (from visions<0.7.7,>=0.7.5->visions[type_image_path]<0.7.7,>=0.7.5->ydata-profiling==4.12.0->-r requirements.txt (line 5)) (24.3.0)\n",
            "Requirement already satisfied: networkx>=2.4 in /home/cistudent/.local/lib/python3.12/site-packages (from visions<0.7.7,>=0.7.5->visions[type_image_path]<0.7.7,>=0.7.5->ydata-profiling==4.12.0->-r requirements.txt (line 5)) (3.5)\n",
            "Requirement already satisfied: jsonschema-specifications>=2023.03.6 in /home/cistudent/.pyenv/versions/3.12.1/lib/python3.12/site-packages (from jsonschema>=3.0->altair<6,>=4.0->streamlit==1.40.2->-r requirements.txt (line 8)) (2024.10.1)\n",
            "Requirement already satisfied: referencing>=0.28.4 in /home/cistudent/.pyenv/versions/3.12.1/lib/python3.12/site-packages (from jsonschema>=3.0->altair<6,>=4.0->streamlit==1.40.2->-r requirements.txt (line 8)) (0.35.1)\n",
            "Requirement already satisfied: rpds-py>=0.7.1 in /home/cistudent/.pyenv/versions/3.12.1/lib/python3.12/site-packages (from jsonschema>=3.0->altair<6,>=4.0->streamlit==1.40.2->-r requirements.txt (line 8)) (0.22.3)\n",
            "Requirement already satisfied: mdurl~=0.1 in /home/cistudent/.pyenv/versions/3.12.1/lib/python3.12/site-packages (from markdown-it-py>=2.2.0->rich<14,>=10.14.0->streamlit==1.40.2->-r requirements.txt (line 8)) (0.1.2)\n",
            "Requirement already satisfied: annotated-types>=0.6.0 in /home/cistudent/.local/lib/python3.12/site-packages (from pydantic>=2->ydata-profiling==4.12.0->-r requirements.txt (line 5)) (0.7.0)\n",
            "Requirement already satisfied: pydantic-core==2.41.1 in /home/cistudent/.local/lib/python3.12/site-packages (from pydantic>=2->ydata-profiling==4.12.0->-r requirements.txt (line 5)) (2.41.1)\n",
            "Requirement already satisfied: typing-inspection>=0.4.2 in /home/cistudent/.local/lib/python3.12/site-packages (from pydantic>=2->ydata-profiling==4.12.0->-r requirements.txt (line 5)) (0.4.2)\n",
            "Requirement already satisfied: six>=1.5 in /home/cistudent/.pyenv/versions/3.12.1/lib/python3.12/site-packages (from python-dateutil>=2.8.2->pandas==2.1.1->-r requirements.txt (line 2)) (1.17.0)\n",
            "Note: you may need to restart the kernel to use updated packages.\n"
          ]
        }
      ],
      "source": [
        "%pip install -r requirements.txt"
      ]
    },
    {
      "cell_type": "markdown",
      "metadata": {},
      "source": [
        "Download zip file '' from https://www.transtats.bts.gov/OT_Delay/OT_DelayCause1.asp?20=E using the following filters:\n",
        "* Select a carrier: All\n",
        "* Select an airport All\n",
        "* Period from: June, 2003\n",
        "* Period to: June, 2025\n",
        "\n",
        "File saved in the path : inputs/datasets/raw/transtats_raw_2003june_2025june.zip\n",
        "\n",
        "Unzip file to get 'Airline_Delay_Cause.csv' and 'Download_Column_Definitions.xlsx'"
      ]
    },
    {
      "cell_type": "code",
      "execution_count": null,
      "metadata": {},
      "outputs": [
        {
          "name": "stdout",
          "output_type": "stream",
          "text": [
            "Archive:  inputs/datasets/raw/transtats_raw_2003june_2025june.zip\n",
            "replace inputs/datasets/raw/Airline_Delay_Cause.csv? [y]es, [n]o, [A]ll, [N]one, [r]ename: ^C\n"
          ]
        }
      ],
      "source": [
        "DestinationFolder = \"inputs/datasets/raw\"\n",
        "filename = \"transtats_raw_2003june_2025june.zip\"\n",
        "\n",
        "! unzip {DestinationFolder}/*.zip -d {DestinationFolder}"
      ]
    },
    {
      "cell_type": "markdown",
      "metadata": {},
      "source": [
        "---"
      ]
    },
    {
      "cell_type": "markdown",
      "metadata": {
        "id": "uFQo3ycuO-v6"
      },
      "source": [
        "# Load and Inspect transtats data"
      ]
    },
    {
      "cell_type": "markdown",
      "metadata": {},
      "source": [
        "Section 2 content"
      ]
    },
    {
      "cell_type": "code",
      "execution_count": 13,
      "metadata": {},
      "outputs": [
        {
          "data": {
            "text/html": [
              "<div>\n",
              "<style scoped>\n",
              "    .dataframe tbody tr th:only-of-type {\n",
              "        vertical-align: middle;\n",
              "    }\n",
              "\n",
              "    .dataframe tbody tr th {\n",
              "        vertical-align: top;\n",
              "    }\n",
              "\n",
              "    .dataframe thead th {\n",
              "        text-align: right;\n",
              "    }\n",
              "</style>\n",
              "<table border=\"1\" class=\"dataframe\">\n",
              "  <thead>\n",
              "    <tr style=\"text-align: right;\">\n",
              "      <th></th>\n",
              "      <th>year</th>\n",
              "      <th>month</th>\n",
              "      <th>carrier</th>\n",
              "      <th>carrier_name</th>\n",
              "      <th>airport</th>\n",
              "      <th>airport_name</th>\n",
              "      <th>arr_flights</th>\n",
              "      <th>arr_del15</th>\n",
              "      <th>carrier_ct</th>\n",
              "      <th>weather_ct</th>\n",
              "      <th>...</th>\n",
              "      <th>security_ct</th>\n",
              "      <th>late_aircraft_ct</th>\n",
              "      <th>arr_cancelled</th>\n",
              "      <th>arr_diverted</th>\n",
              "      <th>arr_delay</th>\n",
              "      <th>carrier_delay</th>\n",
              "      <th>weather_delay</th>\n",
              "      <th>nas_delay</th>\n",
              "      <th>security_delay</th>\n",
              "      <th>late_aircraft_delay</th>\n",
              "    </tr>\n",
              "  </thead>\n",
              "  <tbody>\n",
              "    <tr>\n",
              "      <th>0</th>\n",
              "      <td>2025</td>\n",
              "      <td>6</td>\n",
              "      <td>9E</td>\n",
              "      <td>Endeavor Air Inc.</td>\n",
              "      <td>ABE</td>\n",
              "      <td>Allentown/Bethlehem/Easton, PA: Lehigh Valley ...</td>\n",
              "      <td>90.0</td>\n",
              "      <td>26.0</td>\n",
              "      <td>8.63</td>\n",
              "      <td>3.24</td>\n",
              "      <td>...</td>\n",
              "      <td>0.0</td>\n",
              "      <td>9.72</td>\n",
              "      <td>4.0</td>\n",
              "      <td>0.0</td>\n",
              "      <td>1884.0</td>\n",
              "      <td>561.0</td>\n",
              "      <td>223.0</td>\n",
              "      <td>282.0</td>\n",
              "      <td>0.0</td>\n",
              "      <td>818.0</td>\n",
              "    </tr>\n",
              "    <tr>\n",
              "      <th>1</th>\n",
              "      <td>2025</td>\n",
              "      <td>6</td>\n",
              "      <td>9E</td>\n",
              "      <td>Endeavor Air Inc.</td>\n",
              "      <td>ABY</td>\n",
              "      <td>Albany, GA: Southwest Georgia Regional</td>\n",
              "      <td>5.0</td>\n",
              "      <td>1.0</td>\n",
              "      <td>0.00</td>\n",
              "      <td>0.00</td>\n",
              "      <td>...</td>\n",
              "      <td>0.0</td>\n",
              "      <td>1.00</td>\n",
              "      <td>0.0</td>\n",
              "      <td>0.0</td>\n",
              "      <td>124.0</td>\n",
              "      <td>0.0</td>\n",
              "      <td>0.0</td>\n",
              "      <td>0.0</td>\n",
              "      <td>0.0</td>\n",
              "      <td>124.0</td>\n",
              "    </tr>\n",
              "    <tr>\n",
              "      <th>2</th>\n",
              "      <td>2025</td>\n",
              "      <td>6</td>\n",
              "      <td>9E</td>\n",
              "      <td>Endeavor Air Inc.</td>\n",
              "      <td>AEX</td>\n",
              "      <td>Alexandria, LA: Alexandria International</td>\n",
              "      <td>69.0</td>\n",
              "      <td>23.0</td>\n",
              "      <td>7.21</td>\n",
              "      <td>1.82</td>\n",
              "      <td>...</td>\n",
              "      <td>0.0</td>\n",
              "      <td>5.32</td>\n",
              "      <td>2.0</td>\n",
              "      <td>0.0</td>\n",
              "      <td>1698.0</td>\n",
              "      <td>981.0</td>\n",
              "      <td>54.0</td>\n",
              "      <td>294.0</td>\n",
              "      <td>0.0</td>\n",
              "      <td>369.0</td>\n",
              "    </tr>\n",
              "    <tr>\n",
              "      <th>3</th>\n",
              "      <td>2025</td>\n",
              "      <td>6</td>\n",
              "      <td>9E</td>\n",
              "      <td>Endeavor Air Inc.</td>\n",
              "      <td>AGS</td>\n",
              "      <td>Augusta, GA: Augusta Regional at Bush Field</td>\n",
              "      <td>155.0</td>\n",
              "      <td>43.0</td>\n",
              "      <td>12.78</td>\n",
              "      <td>2.69</td>\n",
              "      <td>...</td>\n",
              "      <td>0.0</td>\n",
              "      <td>17.19</td>\n",
              "      <td>9.0</td>\n",
              "      <td>0.0</td>\n",
              "      <td>2877.0</td>\n",
              "      <td>827.0</td>\n",
              "      <td>198.0</td>\n",
              "      <td>517.0</td>\n",
              "      <td>0.0</td>\n",
              "      <td>1335.0</td>\n",
              "    </tr>\n",
              "    <tr>\n",
              "      <th>4</th>\n",
              "      <td>2025</td>\n",
              "      <td>6</td>\n",
              "      <td>9E</td>\n",
              "      <td>Endeavor Air Inc.</td>\n",
              "      <td>ALB</td>\n",
              "      <td>Albany, NY: Albany International</td>\n",
              "      <td>86.0</td>\n",
              "      <td>29.0</td>\n",
              "      <td>9.32</td>\n",
              "      <td>0.00</td>\n",
              "      <td>...</td>\n",
              "      <td>0.0</td>\n",
              "      <td>15.61</td>\n",
              "      <td>4.0</td>\n",
              "      <td>0.0</td>\n",
              "      <td>1934.0</td>\n",
              "      <td>638.0</td>\n",
              "      <td>0.0</td>\n",
              "      <td>194.0</td>\n",
              "      <td>0.0</td>\n",
              "      <td>1102.0</td>\n",
              "    </tr>\n",
              "  </tbody>\n",
              "</table>\n",
              "<p>5 rows × 21 columns</p>\n",
              "</div>"
            ],
            "text/plain": [
              "   year  month carrier       carrier_name airport  \\\n",
              "0  2025      6      9E  Endeavor Air Inc.     ABE   \n",
              "1  2025      6      9E  Endeavor Air Inc.     ABY   \n",
              "2  2025      6      9E  Endeavor Air Inc.     AEX   \n",
              "3  2025      6      9E  Endeavor Air Inc.     AGS   \n",
              "4  2025      6      9E  Endeavor Air Inc.     ALB   \n",
              "\n",
              "                                        airport_name  arr_flights  arr_del15  \\\n",
              "0  Allentown/Bethlehem/Easton, PA: Lehigh Valley ...         90.0       26.0   \n",
              "1             Albany, GA: Southwest Georgia Regional          5.0        1.0   \n",
              "2           Alexandria, LA: Alexandria International         69.0       23.0   \n",
              "3        Augusta, GA: Augusta Regional at Bush Field        155.0       43.0   \n",
              "4                   Albany, NY: Albany International         86.0       29.0   \n",
              "\n",
              "   carrier_ct  weather_ct  ...  security_ct  late_aircraft_ct  arr_cancelled  \\\n",
              "0        8.63        3.24  ...          0.0              9.72            4.0   \n",
              "1        0.00        0.00  ...          0.0              1.00            0.0   \n",
              "2        7.21        1.82  ...          0.0              5.32            2.0   \n",
              "3       12.78        2.69  ...          0.0             17.19            9.0   \n",
              "4        9.32        0.00  ...          0.0             15.61            4.0   \n",
              "\n",
              "   arr_diverted  arr_delay  carrier_delay  weather_delay  nas_delay  \\\n",
              "0           0.0     1884.0          561.0          223.0      282.0   \n",
              "1           0.0      124.0            0.0            0.0        0.0   \n",
              "2           0.0     1698.0          981.0           54.0      294.0   \n",
              "3           0.0     2877.0          827.0          198.0      517.0   \n",
              "4           0.0     1934.0          638.0            0.0      194.0   \n",
              "\n",
              "   security_delay  late_aircraft_delay  \n",
              "0             0.0                818.0  \n",
              "1             0.0                124.0  \n",
              "2             0.0                369.0  \n",
              "3             0.0               1335.0  \n",
              "4             0.0               1102.0  \n",
              "\n",
              "[5 rows x 21 columns]"
            ]
          },
          "execution_count": 13,
          "metadata": {},
          "output_type": "execute_result"
        }
      ],
      "source": [
        "\n",
        "import pandas as pd\n",
        "import numpy as np\n",
        "\n",
        "df = pd.read_csv(f\"inputs/datasets/raw/Airline_Delay_Cause.csv\")\n",
        "df.head()"
      ]
    },
    {
      "cell_type": "markdown",
      "metadata": {},
      "source": [
        "DataFrame Summary"
      ]
    },
    {
      "cell_type": "code",
      "execution_count": 10,
      "metadata": {},
      "outputs": [
        {
          "name": "stdout",
          "output_type": "stream",
          "text": [
            "<class 'pandas.core.frame.DataFrame'>\n",
            "RangeIndex: 407721 entries, 0 to 407720\n",
            "Data columns (total 21 columns):\n",
            " #   Column               Non-Null Count   Dtype  \n",
            "---  ------               --------------   -----  \n",
            " 0   year                 407721 non-null  int64  \n",
            " 1   month                407721 non-null  int64  \n",
            " 2   carrier              407721 non-null  object \n",
            " 3   carrier_name         407721 non-null  object \n",
            " 4   airport              407721 non-null  object \n",
            " 5   airport_name         407721 non-null  object \n",
            " 6   arr_flights          407061 non-null  float64\n",
            " 7   arr_del15            406766 non-null  float64\n",
            " 8   carrier_ct           407061 non-null  float64\n",
            " 9   weather_ct           407061 non-null  float64\n",
            " 10  nas_ct               407061 non-null  float64\n",
            " 11  security_ct          407061 non-null  float64\n",
            " 12  late_aircraft_ct     407061 non-null  float64\n",
            " 13  arr_cancelled        407061 non-null  float64\n",
            " 14  arr_diverted         407061 non-null  float64\n",
            " 15  arr_delay            407061 non-null  float64\n",
            " 16  carrier_delay        407061 non-null  float64\n",
            " 17  weather_delay        407061 non-null  float64\n",
            " 18  nas_delay            407061 non-null  float64\n",
            " 19  security_delay       407061 non-null  float64\n",
            " 20  late_aircraft_delay  407061 non-null  float64\n",
            "dtypes: float64(15), int64(2), object(4)\n",
            "memory usage: 65.3+ MB\n"
          ]
        }
      ],
      "source": [
        "\n",
        "df.info()"
      ]
    },
    {
      "cell_type": "markdown",
      "metadata": {},
      "source": [
        "Replace fractional variable ending in _ct with actual frequencies."
      ]
    },
    {
      "cell_type": "code",
      "execution_count": 14,
      "metadata": {},
      "outputs": [
        {
          "data": {
            "text/html": [
              "<div>\n",
              "<style scoped>\n",
              "    .dataframe tbody tr th:only-of-type {\n",
              "        vertical-align: middle;\n",
              "    }\n",
              "\n",
              "    .dataframe tbody tr th {\n",
              "        vertical-align: top;\n",
              "    }\n",
              "\n",
              "    .dataframe thead th {\n",
              "        text-align: right;\n",
              "    }\n",
              "</style>\n",
              "<table border=\"1\" class=\"dataframe\">\n",
              "  <thead>\n",
              "    <tr style=\"text-align: right;\">\n",
              "      <th></th>\n",
              "      <th>year</th>\n",
              "      <th>month</th>\n",
              "      <th>carrier</th>\n",
              "      <th>carrier_name</th>\n",
              "      <th>airport</th>\n",
              "      <th>airport_name</th>\n",
              "      <th>arr_flights</th>\n",
              "      <th>arr_del15</th>\n",
              "      <th>arr_cancelled</th>\n",
              "      <th>arr_diverted</th>\n",
              "      <th>...</th>\n",
              "      <th>carrier_delay</th>\n",
              "      <th>weather_delay</th>\n",
              "      <th>nas_delay</th>\n",
              "      <th>security_delay</th>\n",
              "      <th>late_aircraft_delay</th>\n",
              "      <th>carrier_freq</th>\n",
              "      <th>weather_freq</th>\n",
              "      <th>nas_freq</th>\n",
              "      <th>security_freq</th>\n",
              "      <th>late_aircraft_freq</th>\n",
              "    </tr>\n",
              "  </thead>\n",
              "  <tbody>\n",
              "    <tr>\n",
              "      <th>0</th>\n",
              "      <td>2025</td>\n",
              "      <td>6</td>\n",
              "      <td>9E</td>\n",
              "      <td>Endeavor Air Inc.</td>\n",
              "      <td>ABE</td>\n",
              "      <td>Allentown/Bethlehem/Easton, PA: Lehigh Valley ...</td>\n",
              "      <td>90.0</td>\n",
              "      <td>26.0</td>\n",
              "      <td>4.0</td>\n",
              "      <td>0.0</td>\n",
              "      <td>...</td>\n",
              "      <td>561.0</td>\n",
              "      <td>223.0</td>\n",
              "      <td>282.0</td>\n",
              "      <td>0.0</td>\n",
              "      <td>818.0</td>\n",
              "      <td>0.331923</td>\n",
              "      <td>0.124615</td>\n",
              "      <td>0.169615</td>\n",
              "      <td>0.000000</td>\n",
              "      <td>0.373846</td>\n",
              "    </tr>\n",
              "    <tr>\n",
              "      <th>1</th>\n",
              "      <td>2025</td>\n",
              "      <td>6</td>\n",
              "      <td>9E</td>\n",
              "      <td>Endeavor Air Inc.</td>\n",
              "      <td>ABY</td>\n",
              "      <td>Albany, GA: Southwest Georgia Regional</td>\n",
              "      <td>5.0</td>\n",
              "      <td>1.0</td>\n",
              "      <td>0.0</td>\n",
              "      <td>0.0</td>\n",
              "      <td>...</td>\n",
              "      <td>0.0</td>\n",
              "      <td>0.0</td>\n",
              "      <td>0.0</td>\n",
              "      <td>0.0</td>\n",
              "      <td>124.0</td>\n",
              "      <td>0.000000</td>\n",
              "      <td>0.000000</td>\n",
              "      <td>0.000000</td>\n",
              "      <td>0.000000</td>\n",
              "      <td>1.000000</td>\n",
              "    </tr>\n",
              "    <tr>\n",
              "      <th>2</th>\n",
              "      <td>2025</td>\n",
              "      <td>6</td>\n",
              "      <td>9E</td>\n",
              "      <td>Endeavor Air Inc.</td>\n",
              "      <td>AEX</td>\n",
              "      <td>Alexandria, LA: Alexandria International</td>\n",
              "      <td>69.0</td>\n",
              "      <td>23.0</td>\n",
              "      <td>2.0</td>\n",
              "      <td>0.0</td>\n",
              "      <td>...</td>\n",
              "      <td>981.0</td>\n",
              "      <td>54.0</td>\n",
              "      <td>294.0</td>\n",
              "      <td>0.0</td>\n",
              "      <td>369.0</td>\n",
              "      <td>0.313478</td>\n",
              "      <td>0.079130</td>\n",
              "      <td>0.376087</td>\n",
              "      <td>0.000000</td>\n",
              "      <td>0.231304</td>\n",
              "    </tr>\n",
              "    <tr>\n",
              "      <th>3</th>\n",
              "      <td>2025</td>\n",
              "      <td>6</td>\n",
              "      <td>9E</td>\n",
              "      <td>Endeavor Air Inc.</td>\n",
              "      <td>AGS</td>\n",
              "      <td>Augusta, GA: Augusta Regional at Bush Field</td>\n",
              "      <td>155.0</td>\n",
              "      <td>43.0</td>\n",
              "      <td>9.0</td>\n",
              "      <td>0.0</td>\n",
              "      <td>...</td>\n",
              "      <td>827.0</td>\n",
              "      <td>198.0</td>\n",
              "      <td>517.0</td>\n",
              "      <td>0.0</td>\n",
              "      <td>1335.0</td>\n",
              "      <td>0.297209</td>\n",
              "      <td>0.062558</td>\n",
              "      <td>0.240465</td>\n",
              "      <td>0.000000</td>\n",
              "      <td>0.399767</td>\n",
              "    </tr>\n",
              "    <tr>\n",
              "      <th>4</th>\n",
              "      <td>2025</td>\n",
              "      <td>6</td>\n",
              "      <td>9E</td>\n",
              "      <td>Endeavor Air Inc.</td>\n",
              "      <td>ALB</td>\n",
              "      <td>Albany, NY: Albany International</td>\n",
              "      <td>86.0</td>\n",
              "      <td>29.0</td>\n",
              "      <td>4.0</td>\n",
              "      <td>0.0</td>\n",
              "      <td>...</td>\n",
              "      <td>638.0</td>\n",
              "      <td>0.0</td>\n",
              "      <td>194.0</td>\n",
              "      <td>0.0</td>\n",
              "      <td>1102.0</td>\n",
              "      <td>0.321379</td>\n",
              "      <td>0.000000</td>\n",
              "      <td>0.140345</td>\n",
              "      <td>0.000000</td>\n",
              "      <td>0.538276</td>\n",
              "    </tr>\n",
              "    <tr>\n",
              "      <th>5</th>\n",
              "      <td>2025</td>\n",
              "      <td>6</td>\n",
              "      <td>9E</td>\n",
              "      <td>Endeavor Air Inc.</td>\n",
              "      <td>ATL</td>\n",
              "      <td>Atlanta, GA: Hartsfield-Jackson Atlanta Intern...</td>\n",
              "      <td>2695.0</td>\n",
              "      <td>712.0</td>\n",
              "      <td>96.0</td>\n",
              "      <td>11.0</td>\n",
              "      <td>...</td>\n",
              "      <td>19049.0</td>\n",
              "      <td>5308.0</td>\n",
              "      <td>10868.0</td>\n",
              "      <td>33.0</td>\n",
              "      <td>33913.0</td>\n",
              "      <td>0.182879</td>\n",
              "      <td>0.060899</td>\n",
              "      <td>0.205618</td>\n",
              "      <td>0.001124</td>\n",
              "      <td>0.549466</td>\n",
              "    </tr>\n",
              "    <tr>\n",
              "      <th>6</th>\n",
              "      <td>2025</td>\n",
              "      <td>6</td>\n",
              "      <td>9E</td>\n",
              "      <td>Endeavor Air Inc.</td>\n",
              "      <td>AUS</td>\n",
              "      <td>Austin, TX: Austin - Bergstrom International</td>\n",
              "      <td>90.0</td>\n",
              "      <td>24.0</td>\n",
              "      <td>4.0</td>\n",
              "      <td>1.0</td>\n",
              "      <td>...</td>\n",
              "      <td>537.0</td>\n",
              "      <td>110.0</td>\n",
              "      <td>455.0</td>\n",
              "      <td>0.0</td>\n",
              "      <td>508.0</td>\n",
              "      <td>0.411667</td>\n",
              "      <td>0.057917</td>\n",
              "      <td>0.339167</td>\n",
              "      <td>0.000000</td>\n",
              "      <td>0.191250</td>\n",
              "    </tr>\n",
              "    <tr>\n",
              "      <th>7</th>\n",
              "      <td>2025</td>\n",
              "      <td>6</td>\n",
              "      <td>9E</td>\n",
              "      <td>Endeavor Air Inc.</td>\n",
              "      <td>AVL</td>\n",
              "      <td>Asheville, NC: Asheville Regional</td>\n",
              "      <td>76.0</td>\n",
              "      <td>29.0</td>\n",
              "      <td>4.0</td>\n",
              "      <td>0.0</td>\n",
              "      <td>...</td>\n",
              "      <td>607.0</td>\n",
              "      <td>284.0</td>\n",
              "      <td>731.0</td>\n",
              "      <td>0.0</td>\n",
              "      <td>510.0</td>\n",
              "      <td>0.293448</td>\n",
              "      <td>0.032414</td>\n",
              "      <td>0.371379</td>\n",
              "      <td>0.000000</td>\n",
              "      <td>0.302414</td>\n",
              "    </tr>\n",
              "    <tr>\n",
              "      <th>8</th>\n",
              "      <td>2025</td>\n",
              "      <td>6</td>\n",
              "      <td>9E</td>\n",
              "      <td>Endeavor Air Inc.</td>\n",
              "      <td>BGR</td>\n",
              "      <td>Bangor, ME: Bangor International</td>\n",
              "      <td>99.0</td>\n",
              "      <td>24.0</td>\n",
              "      <td>7.0</td>\n",
              "      <td>0.0</td>\n",
              "      <td>...</td>\n",
              "      <td>330.0</td>\n",
              "      <td>111.0</td>\n",
              "      <td>161.0</td>\n",
              "      <td>0.0</td>\n",
              "      <td>1165.0</td>\n",
              "      <td>0.180417</td>\n",
              "      <td>0.033750</td>\n",
              "      <td>0.207500</td>\n",
              "      <td>0.000000</td>\n",
              "      <td>0.577917</td>\n",
              "    </tr>\n",
              "    <tr>\n",
              "      <th>9</th>\n",
              "      <td>2025</td>\n",
              "      <td>6</td>\n",
              "      <td>9E</td>\n",
              "      <td>Endeavor Air Inc.</td>\n",
              "      <td>BHM</td>\n",
              "      <td>Birmingham, AL: Birmingham-Shuttlesworth Inter...</td>\n",
              "      <td>137.0</td>\n",
              "      <td>53.0</td>\n",
              "      <td>11.0</td>\n",
              "      <td>0.0</td>\n",
              "      <td>...</td>\n",
              "      <td>1095.0</td>\n",
              "      <td>9.0</td>\n",
              "      <td>1888.0</td>\n",
              "      <td>0.0</td>\n",
              "      <td>1322.0</td>\n",
              "      <td>0.332830</td>\n",
              "      <td>0.006792</td>\n",
              "      <td>0.312830</td>\n",
              "      <td>0.000000</td>\n",
              "      <td>0.347547</td>\n",
              "    </tr>\n",
              "  </tbody>\n",
              "</table>\n",
              "<p>10 rows × 21 columns</p>\n",
              "</div>"
            ],
            "text/plain": [
              "   year  month carrier       carrier_name airport  \\\n",
              "0  2025      6      9E  Endeavor Air Inc.     ABE   \n",
              "1  2025      6      9E  Endeavor Air Inc.     ABY   \n",
              "2  2025      6      9E  Endeavor Air Inc.     AEX   \n",
              "3  2025      6      9E  Endeavor Air Inc.     AGS   \n",
              "4  2025      6      9E  Endeavor Air Inc.     ALB   \n",
              "5  2025      6      9E  Endeavor Air Inc.     ATL   \n",
              "6  2025      6      9E  Endeavor Air Inc.     AUS   \n",
              "7  2025      6      9E  Endeavor Air Inc.     AVL   \n",
              "8  2025      6      9E  Endeavor Air Inc.     BGR   \n",
              "9  2025      6      9E  Endeavor Air Inc.     BHM   \n",
              "\n",
              "                                        airport_name  arr_flights  arr_del15  \\\n",
              "0  Allentown/Bethlehem/Easton, PA: Lehigh Valley ...         90.0       26.0   \n",
              "1             Albany, GA: Southwest Georgia Regional          5.0        1.0   \n",
              "2           Alexandria, LA: Alexandria International         69.0       23.0   \n",
              "3        Augusta, GA: Augusta Regional at Bush Field        155.0       43.0   \n",
              "4                   Albany, NY: Albany International         86.0       29.0   \n",
              "5  Atlanta, GA: Hartsfield-Jackson Atlanta Intern...       2695.0      712.0   \n",
              "6       Austin, TX: Austin - Bergstrom International         90.0       24.0   \n",
              "7                  Asheville, NC: Asheville Regional         76.0       29.0   \n",
              "8                   Bangor, ME: Bangor International         99.0       24.0   \n",
              "9  Birmingham, AL: Birmingham-Shuttlesworth Inter...        137.0       53.0   \n",
              "\n",
              "   arr_cancelled  arr_diverted  ...  carrier_delay  weather_delay  nas_delay  \\\n",
              "0            4.0           0.0  ...          561.0          223.0      282.0   \n",
              "1            0.0           0.0  ...            0.0            0.0        0.0   \n",
              "2            2.0           0.0  ...          981.0           54.0      294.0   \n",
              "3            9.0           0.0  ...          827.0          198.0      517.0   \n",
              "4            4.0           0.0  ...          638.0            0.0      194.0   \n",
              "5           96.0          11.0  ...        19049.0         5308.0    10868.0   \n",
              "6            4.0           1.0  ...          537.0          110.0      455.0   \n",
              "7            4.0           0.0  ...          607.0          284.0      731.0   \n",
              "8            7.0           0.0  ...          330.0          111.0      161.0   \n",
              "9           11.0           0.0  ...         1095.0            9.0     1888.0   \n",
              "\n",
              "   security_delay  late_aircraft_delay  carrier_freq  weather_freq  nas_freq  \\\n",
              "0             0.0                818.0      0.331923      0.124615  0.169615   \n",
              "1             0.0                124.0      0.000000      0.000000  0.000000   \n",
              "2             0.0                369.0      0.313478      0.079130  0.376087   \n",
              "3             0.0               1335.0      0.297209      0.062558  0.240465   \n",
              "4             0.0               1102.0      0.321379      0.000000  0.140345   \n",
              "5            33.0              33913.0      0.182879      0.060899  0.205618   \n",
              "6             0.0                508.0      0.411667      0.057917  0.339167   \n",
              "7             0.0                510.0      0.293448      0.032414  0.371379   \n",
              "8             0.0               1165.0      0.180417      0.033750  0.207500   \n",
              "9             0.0               1322.0      0.332830      0.006792  0.312830   \n",
              "\n",
              "   security_freq  late_aircraft_freq  \n",
              "0       0.000000            0.373846  \n",
              "1       0.000000            1.000000  \n",
              "2       0.000000            0.231304  \n",
              "3       0.000000            0.399767  \n",
              "4       0.000000            0.538276  \n",
              "5       0.001124            0.549466  \n",
              "6       0.000000            0.191250  \n",
              "7       0.000000            0.302414  \n",
              "8       0.000000            0.577917  \n",
              "9       0.000000            0.347547  \n",
              "\n",
              "[10 rows x 21 columns]"
            ]
          },
          "execution_count": 14,
          "metadata": {},
          "output_type": "execute_result"
        }
      ],
      "source": [
        "ct_cols = [col for col in df.columns if col.endswith('_ct')]\n",
        "\n",
        "for col in ct_cols:\n",
        "    freq_col = col.replace('_ct', '_freq')\n",
        "    df[freq_col] = np.where(df['arr_del15'] > 0, df[col] / df['arr_del15'], 0)\n",
        "\n",
        "df.drop(columns=ct_cols,inplace=True)\n",
        "df.head(10)"
      ]
    },
    {
      "cell_type": "markdown",
      "metadata": {},
      "source": [
        "Change data type for 'month' and 'year' columns from int64 to object "
      ]
    },
    {
      "cell_type": "code",
      "execution_count": 15,
      "metadata": {},
      "outputs": [
        {
          "name": "stdout",
          "output_type": "stream",
          "text": [
            "<class 'pandas.core.frame.DataFrame'>\n",
            "RangeIndex: 407721 entries, 0 to 407720\n",
            "Data columns (total 21 columns):\n",
            " #   Column               Non-Null Count   Dtype  \n",
            "---  ------               --------------   -----  \n",
            " 0   year                 407721 non-null  object \n",
            " 1   month                407721 non-null  object \n",
            " 2   carrier              407721 non-null  object \n",
            " 3   carrier_name         407721 non-null  object \n",
            " 4   airport              407721 non-null  object \n",
            " 5   airport_name         407721 non-null  object \n",
            " 6   arr_flights          407061 non-null  float64\n",
            " 7   arr_del15            406766 non-null  float64\n",
            " 8   arr_cancelled        407061 non-null  float64\n",
            " 9   arr_diverted         407061 non-null  float64\n",
            " 10  arr_delay            407061 non-null  float64\n",
            " 11  carrier_delay        407061 non-null  float64\n",
            " 12  weather_delay        407061 non-null  float64\n",
            " 13  nas_delay            407061 non-null  float64\n",
            " 14  security_delay       407061 non-null  float64\n",
            " 15  late_aircraft_delay  407061 non-null  float64\n",
            " 16  carrier_freq         407721 non-null  float64\n",
            " 17  weather_freq         407721 non-null  float64\n",
            " 18  nas_freq             407721 non-null  float64\n",
            " 19  security_freq        407721 non-null  float64\n",
            " 20  late_aircraft_freq   407721 non-null  float64\n",
            "dtypes: float64(15), object(6)\n",
            "memory usage: 65.3+ MB\n"
          ]
        }
      ],
      "source": [
        "df = df.astype({'year': 'object', 'month': 'object'})\n",
        "df.info()"
      ]
    },
    {
      "cell_type": "markdown",
      "metadata": {},
      "source": [
        "# Save file \n",
        "\n",
        "create destination folder: outputs/datasets/collection\n",
        "\n",
        "path: outputs/dataset/collection as transtatsAirlineDelay.csv"
      ]
    },
    {
      "cell_type": "code",
      "execution_count": 16,
      "metadata": {},
      "outputs": [],
      "source": [
        "import os\n",
        "\n",
        "output_path = r\"outputs/datasets/collection\"\n",
        "try:\n",
        "  os.makedirs(name=output_path)\n",
        "except Exception as e:\n",
        "  print(e)\n",
        "\n",
        "df.to_csv(f\"outputs/datasets/collection/transtatsAirlineDelay.csv\",index=False)"
      ]
    },
    {
      "cell_type": "markdown",
      "metadata": {},
      "source": [
        "---"
      ]
    },
    {
      "cell_type": "markdown",
      "metadata": {
        "id": "ltNetd085qHf"
      },
      "source": [
        "# Conclusions and Next Steps"
      ]
    },
    {
      "cell_type": "markdown",
      "metadata": {},
      "source": [
        "* raw data have been downloaded\n",
        "* Preliminary checks and variable data type changes\n",
        "* Output file saved to the 'collections' subfolder in 'outputs/dataset/'\n",
        "* Next notebook will tackle data exploration"
      ]
    }
  ],
  "metadata": {
    "accelerator": "GPU",
    "colab": {
      "name": "Data Practitioner Jupyter Notebook.ipynb",
      "provenance": [],
      "toc_visible": true
    },
    "kernelspec": {
      "display_name": "3.12.1",
      "language": "python",
      "name": "python3"
    },
    "language_info": {
      "codemirror_mode": {
        "name": "ipython",
        "version": 3
      },
      "file_extension": ".py",
      "mimetype": "text/x-python",
      "name": "python",
      "nbconvert_exporter": "python",
      "pygments_lexer": "ipython3",
      "version": "3.12.1"
    },
    "orig_nbformat": 2
  },
  "nbformat": 4,
  "nbformat_minor": 2
}
